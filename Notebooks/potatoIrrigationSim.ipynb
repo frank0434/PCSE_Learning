{
 "cells": [
  {
   "cell_type": "markdown",
   "metadata": {},
   "source": [
    "<img style=\"float: right;\" src=\"data:image/png;base64,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\">\n",
    "\n"
   ]
  },
  {
   "cell_type": "markdown",
   "metadata": {},
   "source": [
    "# WOFOST POTATO simulations for India experiment design\n",
    "This Jupyter notebook will run WOFOST POTATO model to simulate water balance over 90 days period.  \n",
    "The objectives are:  \n",
    "1. Provide reference information about the effectiveness of the treatment.  \n",
    "2. Verifying weather or not the treatment will cause earlier crop failure.  \n",
    "3. Identify potential parameters to calibrate, also to suggest key plant traits to measure in the field. "
   ]
  },
  {
   "cell_type": "markdown",
   "metadata": {},
   "source": [
    "# 1. Importing the relevant modules\n",
    "\n",
    "First the required modules need to be imported. For this *getting started* we only need PCSE, pandas and matplotlib"
   ]
  },
  {
   "cell_type": "code",
   "execution_count": 1,
   "metadata": {},
   "outputs": [
    {
     "name": "stdout",
     "output_type": "stream",
     "text": [
      "This notebook was built with:\n",
      "python version: 3.8.13 | packaged by conda-forge | (default, Mar 25 2022, 05:59:45) [MSC v.1929 64 bit (AMD64)] \n",
      "PCSE version: 5.5.3\n"
     ]
    }
   ],
   "source": [
    "%matplotlib inline\n",
    "import sys, os\n",
    "import pandas as pd\n",
    "import pcse\n",
    "import pandas\n",
    "import matplotlib\n",
    "from plotnine import *\n",
    "matplotlib.style.use(\"ggplot\")\n",
    "import matplotlib.pyplot as plt\n",
    "print(\"This notebook was built with:\")\n",
    "print(\"python version: %s \" % sys.version)\n",
    "print(\"PCSE version: %s\" %  pcse.__version__)"
   ]
  },
  {
   "cell_type": "markdown",
   "metadata": {},
   "source": [
    "# Read parameter values"
   ]
  },
  {
   "cell_type": "code",
   "execution_count": 3,
   "metadata": {},
   "outputs": [
    {
     "ename": "FileNotFoundError",
     "evalue": "[Errno 2] No such file or directory: '../Data/cassava.yaml'",
     "output_type": "error",
     "traceback": [
      "\u001b[1;31m---------------------------------------------------------------------------\u001b[0m",
      "\u001b[1;31mFileNotFoundError\u001b[0m                         Traceback (most recent call last)",
      "\u001b[1;32mc:\\Data\\PCSE_Learning\\Notebooks\\potatoIrrigationSim.ipynb Cell 6\u001b[0m in \u001b[0;36m<cell line: 2>\u001b[1;34m()\u001b[0m\n\u001b[0;32m      <a href='vscode-notebook-cell:/c%3A/Data/PCSE_Learning/Notebooks/potatoIrrigationSim.ipynb#W5sZmlsZQ%3D%3D?line=0'>1</a>\u001b[0m \u001b[39mfrom\u001b[39;00m \u001b[39mpcse\u001b[39;00m\u001b[39m.\u001b[39;00m\u001b[39mfileinput\u001b[39;00m \u001b[39mimport\u001b[39;00m YAMLCropDataProvider, CABOFileReader\n\u001b[1;32m----> <a href='vscode-notebook-cell:/c%3A/Data/PCSE_Learning/Notebooks/potatoIrrigationSim.ipynb#W5sZmlsZQ%3D%3D?line=1'>2</a>\u001b[0m cropd \u001b[39m=\u001b[39m YAMLCropDataProvider(fpath\u001b[39m=\u001b[39;49m\u001b[39m'\u001b[39;49m\u001b[39m../Data/\u001b[39;49m\u001b[39m'\u001b[39;49m)\n\u001b[0;32m      <a href='vscode-notebook-cell:/c%3A/Data/PCSE_Learning/Notebooks/potatoIrrigationSim.ipynb#W5sZmlsZQ%3D%3D?line=2'>3</a>\u001b[0m soild \u001b[39m=\u001b[39m CABOFileReader(\u001b[39m'\u001b[39m\u001b[39m../Data/ec3 sandyloam.soil\u001b[39m\u001b[39m'\u001b[39m)\n\u001b[0;32m      <a href='vscode-notebook-cell:/c%3A/Data/PCSE_Learning/Notebooks/potatoIrrigationSim.ipynb#W5sZmlsZQ%3D%3D?line=3'>4</a>\u001b[0m \u001b[39mfrom\u001b[39;00m \u001b[39mpcse\u001b[39;00m\u001b[39m.\u001b[39;00m\u001b[39mutil\u001b[39;00m \u001b[39mimport\u001b[39;00m WOFOST72SiteDataProvider\n",
      "File \u001b[1;32mc:\\Users\\cflfcl\\.conda\\envs\\py3_pcse\\lib\\site-packages\\pcse\\fileinput\\yaml_cropdataprovider.py:102\u001b[0m, in \u001b[0;36mYAMLCropDataProvider.__init__\u001b[1;34m(self, fpath, repository, force_reload)\u001b[0m\n\u001b[0;32m    100\u001b[0m yaml_file_names \u001b[39m=\u001b[39m \u001b[39mself\u001b[39m\u001b[39m.\u001b[39m_get_yaml_files(fpath)\n\u001b[0;32m    101\u001b[0m \u001b[39mfor\u001b[39;00m crop_name, yaml_fname \u001b[39min\u001b[39;00m yaml_file_names\u001b[39m.\u001b[39mitems():\n\u001b[1;32m--> 102\u001b[0m     \u001b[39mwith\u001b[39;00m \u001b[39mopen\u001b[39;49m(yaml_fname) \u001b[39mas\u001b[39;00m fp:\n\u001b[0;32m    103\u001b[0m         parameters \u001b[39m=\u001b[39m yaml\u001b[39m.\u001b[39msafe_load(fp)\n\u001b[0;32m    104\u001b[0m     \u001b[39mself\u001b[39m\u001b[39m.\u001b[39m_check_version(parameters, crop_fname\u001b[39m=\u001b[39myaml_fname)\n",
      "\u001b[1;31mFileNotFoundError\u001b[0m: [Errno 2] No such file or directory: '../Data/cassava.yaml'"
     ]
    }
   ],
   "source": [
    "from pcse.fileinput import YAMLCropDataProvider, CABOFileReader\n",
    "cropd = YAMLCropDataProvider(fpath='../Data/')\n",
    "soild = CABOFileReader('../Data/ec3 sandyloam.soil')\n",
    "from pcse.util import WOFOST72SiteDataProvider\n",
    "sited = WOFOST72SiteDataProvider(WAV=0, CO2=360)\n",
    "print(sited)\n",
    "# help(WOFOST72SiteDataProvider)\n"
   ]
  },
  {
   "cell_type": "code",
   "execution_count": null,
   "metadata": {},
   "outputs": [],
   "source": [
    "from pcse.base import ParameterProvider\n",
    "parameters = ParameterProvider(cropdata=cropd, soildata=soild, sitedata=sited)"
   ]
  },
  {
   "cell_type": "code",
   "execution_count": null,
   "metadata": {},
   "outputs": [],
   "source": [
    "from pcse.fileinput import ExcelWeatherDataProvider\n",
    "wdp = ExcelWeatherDataProvider('../inputs/india2021-22.xlsx')\n",
    "print(wdp)"
   ]
  },
  {
   "cell_type": "code",
   "execution_count": null,
   "metadata": {},
   "outputs": [],
   "source": [
    "# Verify the weather data \n",
    "weather = pd.read_excel('../inputs/india2021-22.xlsx', skiprows=10)\n",
    "weather.drop(axis=0, index = 0, inplace=True)\n",
    "weather[['IRRAD', 'TMIN', 'TMAX', 'VAP', 'WIND', 'RAIN', 'SNOWDEPTH']] = weather[['IRRAD', 'TMIN', 'TMAX', 'VAP', 'WIND', 'RAIN', 'SNOWDEPTH']].apply(pd.to_numeric)\n",
    "weather.DAY = pd.to_datetime(weather.DAY)\n",
    "# verify if forced 0 success\n",
    "weather.set_index('DAY', inplace=True)\n",
    "weather.plot(y = 'RAIN')"
   ]
  },
  {
   "cell_type": "code",
   "execution_count": null,
   "metadata": {},
   "outputs": [],
   "source": [
    "cols = ['IRRAD', 'TMIN', 'TMAX', 'VAP', 'WIND', 'RAIN', 'SNOWDEPTH']\n",
    "#https://engineeringfordatascience.com/posts/matplotlib_subplots/\n",
    "fig, axes = plt.subplots(nrows=2, ncols=4, figsize=(16,8))\n",
    "plt.subplots_adjust(hspace=0.5)\n",
    "for col, ax in zip(cols, axes.ravel()):    \n",
    "    weather[[col]].plot(ax=ax)\n",
    "    ax.set_title(col.upper())\n",
    "    ax.get_legend().remove()\n",
    "    ax.set_xlabel(\"\")\n",
    "\n",
    "plt.show()"
   ]
  },
  {
   "cell_type": "code",
   "execution_count": null,
   "metadata": {},
   "outputs": [],
   "source": [
    "weather[['TMAX', 'TMIN']].plot()"
   ]
  },
  {
   "cell_type": "markdown",
   "metadata": {},
   "source": [
    "### Temperature is a bit high\n",
    "\n",
    "### Run a potential potato model with india weather and dutch cultivar"
   ]
  },
  {
   "cell_type": "code",
   "execution_count": null,
   "metadata": {},
   "outputs": [],
   "source": [
    "# NO IRRIGATION AGRONOMANAGEMNT \n",
    "import yaml\n",
    "yaml_agro = \"\"\"\n",
    "- 2021-10-05:\n",
    "    CropCalendar:\n",
    "        crop_name: potato\n",
    "        variety_name: Potato_704\n",
    "        crop_start_date: 2021-10-10\n",
    "        crop_start_type: sowing\n",
    "        crop_end_date: 2022-01-20\n",
    "        crop_end_type: harvest\n",
    "        max_duration: 300\n",
    "    TimedEvents: null       \n",
    "    StateEvents: null\n",
    "\"\"\"\n",
    "agromanagement_null = yaml.safe_load(yaml_agro)"
   ]
  },
  {
   "cell_type": "code",
   "execution_count": null,
   "metadata": {},
   "outputs": [],
   "source": [
    "from pcse.models import Wofost72_WLP_FD, Wofost72_PP\n",
    "wofsim = Wofost72_PP(parameters, wdp, agromanagement_null)"
   ]
  },
  {
   "cell_type": "code",
   "execution_count": null,
   "metadata": {},
   "outputs": [],
   "source": [
    "wofsim.run_till_terminate()\n",
    "PP_results = pd.DataFrame(wofsim.get_output())\n",
    "PP_results.day = pd.to_datetime(PP_results.day)\n",
    "PP_results.set_index(\"day\", inplace=True)\n",
    "PP_results.columns"
   ]
  },
  {
   "cell_type": "markdown",
   "metadata": {},
   "source": [
    "Table 2. Description of the output of Potential Crop Production table window.\n",
    "YEAR - year of the simulation time step  \n",
    "DAY - day of year of the simulation time step (1-366)  \n",
    "IDSEM  - number of days since emergence (d)   \n",
    "DVS - development stage of crop (-)  \n",
    "TSUM - thermal time since emergence (C d)  \n",
    "WLV - dry weight of living leaves (kg ha-1)  \n",
    "WST - dry weight of living stems (kg ha-1)  \n",
    "WSO - dry weight of living storage organs (kg ha)  \n",
    "**TAGP - total above ground production (dead and living plant organs) (kg ha-1)**  \n",
    "TWRT - total dry weight of roots (dead and living) (kg ha-1)  \n",
    "TWLV - total dry weight of leaves (dead and living) (kg ha-1)  \n",
    "TWST - total dry weight of stems (dead and living) (kg ha-1)  \n",
    "TWSO - total dry weight of storage organs (dead and living) (kg ha-1)  \n",
    "LAI - leaf area index (leaf area)/(soil area) (ha ha-1)  \n",
    "TRA - transpiration rate (mm d-1)  \n",
    "GASS - gross assimilation rate (kg (CH2O) ha-1 d-1)   \n",
    "MRES - maintenance respiration rate (kg (CH2O) ha-1 d-1)  \n",
    "DMI - rate of dry matter increase (kg ha-1 d-1)."
   ]
  },
  {
   "cell_type": "markdown",
   "metadata": {},
   "source": [
    "**The current cultivar 704 doesn't work in india weather**  \n",
    "LAI is too low   \n",
    "TAGP is only a third  \n",
    "TRA is low "
   ]
  },
  {
   "cell_type": "code",
   "execution_count": null,
   "metadata": {},
   "outputs": [],
   "source": [
    "fig, axes = plt.subplots(nrows=2, ncols=5, figsize=(15,10))\n",
    "for n, col in enumerate(['LAI', 'TAGP', 'TRA', 'TWSO', 'TWLV', 'TWST', 'TWRT', 'RD', 'SM']):\n",
    "    ax = plt.subplot(3, 3, n + 1)\n",
    "    PP_results[[col]].plot(ax=ax)\n",
    "    ax.set_title(col.upper())\n",
    "    ax.get_legend().remove()\n",
    "    ax.set_xlabel(\"\")\n"
   ]
  },
  {
   "cell_type": "markdown",
   "metadata": {},
   "source": [
    "## Try the other four cultivars available in the potato paremeters "
   ]
  },
  {
   "cell_type": "code",
   "execution_count": null,
   "metadata": {},
   "outputs": [],
   "source": []
  },
  {
   "cell_type": "code",
   "execution_count": null,
   "metadata": {},
   "outputs": [],
   "source": [
    "# NO IRRIGATION AGRONOMANAGEMNT \n",
    "import yaml\n",
    "yaml_agro = \"\"\"\n",
    "- 2021-10-05:\n",
    "    CropCalendar:\n",
    "        crop_name: potato\n",
    "        variety_name: {cultivar}\n",
    "        crop_start_date: 2021-10-10\n",
    "        crop_start_type: sowing\n",
    "        crop_end_date: 2022-01-20\n",
    "        crop_end_type: harvest\n",
    "        max_duration: 300\n",
    "    TimedEvents: null       \n",
    "    StateEvents: null\n",
    "\"\"\"\n",
    "\n",
    "results = []\n",
    "cultivars = [\"Potato_70\" + str(i) for i in list(range(1, 5))]\n",
    "for i in cultivars:\n",
    "    print(i)\n",
    "    # update agromanagement with new start date and load it with yaml.load\n",
    "    tmp = yaml_agro.format(cultivar=i)\n",
    "    agromanagement = yaml.safe_load(tmp)\n",
    "    # run wofost and collect output\n",
    "    wofost = Wofost72_PP(parameters, wdp, agromanagement)\n",
    "    wofost.run_till_terminate()\n",
    "    output = wofost.get_output()\n",
    "    df = pd.DataFrame(output).set_index(\"day\")\n",
    "    results.append(df)"
   ]
  },
  {
   "cell_type": "code",
   "execution_count": null,
   "metadata": {},
   "outputs": [],
   "source": [
    "results[1]"
   ]
  },
  {
   "cell_type": "code",
   "execution_count": null,
   "metadata": {},
   "outputs": [],
   "source": [
    "colors = ['k','r','g','b']\n",
    "fig5, axes5 = plt.subplots(nrows=2, ncols=5, figsize=(20,10))\n",
    "for c, df, cultivar in zip(colors, results, cultivars):\n",
    "    for key, axis in zip(df.columns, axes5.flatten()):\n",
    "        df[key].plot(ax=axis, title=key, color=c, label = cultivar)\n",
    "        # plt.legend(loc=\"upper left\")        \n",
    "axes5[0][0].legend()\n",
    "fig.legend( loc='upper center')\n",
    "fig5.autofmt_xdate()"
   ]
  },
  {
   "cell_type": "code",
   "execution_count": null,
   "metadata": {},
   "outputs": [],
   "source": [
    "#compile my agro\n",
    "Amount = pd.read_excel(\"c:/Users/cflfcl/Dropbox/2. PhD/MeetingNotes/Irrigation schedule CY22.xlsx\", \\\n",
    "                        usecols='K:V')\n",
    "# add dates \n",
    "Amount['Date'] = pd.date_range(start='10/05/2021', periods=90)\n",
    "Amount['Date'] = Amount.Date.dt.strftime(\"%Y-%m-%d\")\n"
   ]
  },
  {
   "cell_type": "code",
   "execution_count": null,
   "metadata": {},
   "outputs": [],
   "source": [
    "control = Amount.loc[Amount['Control'] != 0, ['Date','Control']]"
   ]
  },
  {
   "cell_type": "code",
   "execution_count": null,
   "metadata": {},
   "outputs": [],
   "source": [
    "dates = []\n",
    "for i in control.iterrows():\n",
    "    application = \"\\n        - \" + i[1][0] + \": {amount: \" + str(i[1][1]/10) + \",\" + \" efficiency: 0.7}\"\n",
    "    dates.append(application)\n",
    "\n",
    "dates = ''.join(dates)\n"
   ]
  },
  {
   "cell_type": "code",
   "execution_count": null,
   "metadata": {},
   "outputs": [],
   "source": [
    "import yaml\n",
    "yaml_agro = \"\"\"\n",
    "- 2021-10-05:\n",
    "    CropCalendar:\n",
    "        crop_name: potato\n",
    "        variety_name: potato01\n",
    "        crop_start_date: 2021-10-10\n",
    "        crop_start_type: planting\n",
    "        crop_end_date: 2022-01-20\n",
    "        crop_end_type: harvest\n",
    "        max_duration: 300\n",
    "    TimedEvents:\n",
    "    -   event_signal: irrigate\n",
    "        name: Irrigation application table\n",
    "        comment: All irrigation amounts in cm\n",
    "        events_table:        \"\"\" + \\\n",
    "        dates +\\\n",
    "        \"\"\"\n",
    "    StateEvents: null\n",
    "\"\"\"\n",
    "agromanagement = yaml.safe_load(yaml_agro)\n"
   ]
  },
  {
   "cell_type": "code",
   "execution_count": null,
   "metadata": {},
   "outputs": [],
   "source": [
    "# wofost = Wofost72_WLP_FD(parameters, wdp, agromanagement)\n",
    "# wofost.run_till_terminate()"
   ]
  },
  {
   "cell_type": "code",
   "execution_count": null,
   "metadata": {},
   "outputs": [],
   "source": [
    "# df_results = pd.DataFrame(wofost.get_output()).set_index(\"day\")\n",
    "# fig, axes = plt.subplots(nrows=1, ncols=2, figsize=(16,8))\n",
    "# df_results['LAI'].plot(ax=axes[0], title=\"Leaf Area Index\")\n",
    "# df_results['SM'].plot(ax=axes[1], title=\"Root zone soil moisture\")\n",
    "# fig.autofmt_xdate()"
   ]
  },
  {
   "cell_type": "markdown",
   "metadata": {},
   "source": [
    "Showing the differences in irrigation events\n",
    "============================================\n",
    "\n",
    "We combine the `SM`  column from the different data frames in a new dataframe and plot the results to see the effect of the differences in agromanagement."
   ]
  },
  {
   "cell_type": "markdown",
   "metadata": {},
   "source": [
    "## The main loop for making several WOFOST runs"
   ]
  },
  {
   "cell_type": "code",
   "execution_count": null,
   "metadata": {},
   "outputs": [],
   "source": [
    "Amount.columns\n",
    "treatments = ['Control', 'Control_75%', 'Control_50%', 'Early drought_75%',\n",
    "              'Late drought_75%', 'Early drought 50%', 'Late drought 50%',\n",
    "              'Middle drought_75%', 'Middle drought_50%', 'Early_Middle_75%',\n",
    "              'Early_Middle_50%']\n",
    "results = []\n",
    "for col in treatments:\n",
    "    df = Amount.loc[Amount[col] != 0, ['Date', col]]\n",
    "    # print(df) # just checking \n",
    "    print(\"Processing \" + col)\n",
    "    dates = []\n",
    "    for i in df.iterrows():\n",
    "        application = \"\\n            - \" + i[1][0] + \": {amount: \" + str(i[1][1]/10) + \",\" + \" efficiency: 0.7}\"\n",
    "        dates.append(application)\n",
    "    dates = ''.join(dates)\n",
    "    # print(dates) # checking \n",
    "    print(\"Assembing the irrigation events for \" + col)\n",
    "    yaml_agro = \"\"\"\n",
    "    - 2021-10-05:\n",
    "        CropCalendar:\n",
    "            crop_name: potato\n",
    "            variety_name: potato01\n",
    "            crop_start_date: 2021-10-10\n",
    "            crop_start_type: emergence\n",
    "            crop_end_date: 2022-01-20\n",
    "            crop_end_type: harvest\n",
    "            max_duration: 300\n",
    "        TimedEvents:\n",
    "        -   event_signal: irrigate\n",
    "            name: Irrigation application table\n",
    "            comment: All irrigation amounts in cm\n",
    "            events_table:             \"\"\" + dates +\\\n",
    "        \"\"\"\n",
    "        StateEvents: null\n",
    "        \"\"\"\n",
    "    agromanagement = yaml.safe_load(yaml_agro)\n",
    "    # agrolist.append(agromanagement)\n",
    "    print(\"Simulating \" + col)\n",
    "    wofost = Wofost72_PP(parameters, wdp, agromanagement)\n",
    "    wofost.run_till_terminate()\n",
    "    sim_res = pd.DataFrame(wofost.get_output())\n",
    "    sim_res.day = pd.to_datetime(sim_res.day)\n",
    "    sim_res['Treatment'] = col\n",
    "\n",
    "    results.append(sim_res)\n"
   ]
  },
  {
   "cell_type": "code",
   "execution_count": null,
   "metadata": {},
   "outputs": [],
   "source": [
    "df_results = pd.concat(results)\n",
    "df_lai_sm = df_results.loc[:,['day','Treatment','LAI', 'SM']]\n",
    "# .melt(id_vars=['day', 'Treatment'])\n",
    "df_results"
   ]
  },
  {
   "cell_type": "code",
   "execution_count": null,
   "metadata": {},
   "outputs": [],
   "source": [
    "from mizani.breaks import date_breaks\n",
    "from mizani.formatters import date_format\n",
    "df_lai_sm_long = df_lai_sm.melt(id_vars=['day', 'Treatment'])\n",
    "# ggplot(df_lai_sm, aes(x = 'day', y = 'SM', color = 'Treatment')) +\\\n",
    "#     geom_line() + \\\n",
    "#     facet_wrap('Treatment', scales= 'free_y',ncol = 2) + \\\n",
    "#     scale_x_datetime(breaks=date_breaks('2 weeks'), labels=date_format('%m-%d')) + \\\n",
    "#     theme(figure_size=(16, 10))\n",
    "ggplot(df_lai_sm_long, aes(x = 'day', y = 'value', color = 'Treatment')) +\\\n",
    "    geom_line() + \\\n",
    "    facet_grid('variable ~ Treatment', scales= 'free_y') + \\\n",
    "    scale_x_datetime(breaks=date_breaks('4 weeks'), labels=date_format('%b')) + \\\n",
    "    theme(figure_size=(16, 8))"
   ]
  },
  {
   "cell_type": "code",
   "execution_count": null,
   "metadata": {},
   "outputs": [],
   "source": [
    "df_lai_sm"
   ]
  },
  {
   "cell_type": "markdown",
   "metadata": {},
   "source": [
    "# The timing treatment \n"
   ]
  },
  {
   "cell_type": "code",
   "execution_count": null,
   "metadata": {},
   "outputs": [],
   "source": [
    "#compile my agro\n",
    "Timing = pd.read_excel(\"c:/Users/cflfcl/Dropbox/2. PhD/MeetingNotes/Irrigation schedule CY22.xlsx\", sheet_name=\"TIMING\",\n",
    "                        usecols='A:H')\n",
    "# add dates \n",
    "Timing['Date'] = pd.date_range(start='10/05/2021', periods=90)\n",
    "Timing['Date'] = Timing.Date.dt.strftime(\"%Y-%m-%d\")\n"
   ]
  },
  {
   "cell_type": "code",
   "execution_count": null,
   "metadata": {},
   "outputs": [],
   "source": [
    "Timing.columns"
   ]
  },
  {
   "cell_type": "code",
   "execution_count": null,
   "metadata": {},
   "outputs": [],
   "source": [
    "treatments = ['Control', 'Control_75%', 'Control_50%', 'Full_Every_2nd_week',\n",
    "              'Full_Every_3rd_week', '75%_Every_2nd_week', '75%_Every_3rd_week']\n",
    "results = []\n",
    "for col in treatments:\n",
    "    df = Timing.loc[Timing[col] != 0, ['Date', col]]\n",
    "    # print(df) # just checking \n",
    "    print(\"Processing \" + col)\n",
    "    dates = []\n",
    "    for i in df.iterrows():\n",
    "        application = \"\\n            - \" + i[1][0] + \": {amount: \" + str(i[1][1]) + \",\" + \" efficiency: 0.7}\"\n",
    "        dates.append(application)\n",
    "    dates = ''.join(dates)\n",
    "    # print(dates) # checking \n",
    "    print(\"Assembing the irrigation events for \" + col)\n",
    "    yaml_agro = \"\"\"\n",
    "    - 2021-10-05:\n",
    "        CropCalendar:\n",
    "            crop_name: potato\n",
    "            variety_name: potato01\n",
    "            crop_start_date: 2021-10-10\n",
    "            crop_start_type: emergence\n",
    "            crop_end_date: 2022-01-20\n",
    "            crop_end_type: harvest\n",
    "            max_duration: 300\n",
    "        TimedEvents:\n",
    "        -   event_signal: irrigate\n",
    "            name: Irrigation application table\n",
    "            comment: All irrigation amounts in cm\n",
    "            events_table:             \"\"\" + dates +\\\n",
    "        \"\"\"\n",
    "        StateEvents: null\n",
    "        \"\"\"\n",
    "    agromanagement = yaml.safe_load(yaml_agro)\n",
    "    # agrolist.append(agromanagement)\n",
    "    print(\"Simulating \" + col)\n",
    "    wofost = Wofost72_WLP_FD(parameters, wdp, agromanagement)\n",
    "    wofost.run_till_terminate()\n",
    "    sim_res = pd.DataFrame(wofost.get_output())\n",
    "    sim_res.day = pd.to_datetime(sim_res.day)\n",
    "    sim_res['Treatment'] = col\n",
    "\n",
    "    results.append(sim_res)\n"
   ]
  },
  {
   "cell_type": "code",
   "execution_count": null,
   "metadata": {},
   "outputs": [],
   "source": [
    "df_results = pd.concat(results)\n",
    "df_lai_sm = df_results.loc[:,['day','Treatment','LAI','SM']]\n",
    "df_lai_sm_long = df_lai_sm.melt(id_vars=['day', 'Treatment'])\n",
    "ggplot(df_lai_sm, aes(x = 'day', y = 'SM', color = 'Treatment')) +\\\n",
    "    geom_line() + \\\n",
    "    facet_wrap('Treatment', scales= 'free_y',ncol = 2) + \\\n",
    "    scale_x_datetime(breaks=date_breaks('2 weeks'), labels=date_format('%m-%d')) + \\\n",
    "    theme(figure_size=(16, 10))\n",
    "\n",
    "ggplot(df_lai_sm_long, aes(x = 'day', y = 'value', color = 'Treatment')) +\\\n",
    "    geom_line() + \\\n",
    "    facet_grid('variable ~ Treatment', scales= 'free_y') + \\\n",
    "    scale_x_datetime(breaks=date_breaks('4 weeks'), labels=date_format('%b')) + \\\n",
    "    theme(figure_size=(16, 10))"
   ]
  },
  {
   "cell_type": "code",
   "execution_count": null,
   "metadata": {},
   "outputs": [],
   "source": [
    "from pcse.models import LINTUL3\n",
    "LINTUL3sim = LINTUL3(parameters, wdp, agromanagement)"
   ]
  }
 ],
 "metadata": {
  "kernelspec": {
   "display_name": "Python 3.8.13 ('py3_pcse')",
   "language": "python",
   "name": "python3"
  },
  "language_info": {
   "codemirror_mode": {
    "name": "ipython",
    "version": 3
   },
   "file_extension": ".py",
   "mimetype": "text/x-python",
   "name": "python",
   "nbconvert_exporter": "python",
   "pygments_lexer": "ipython3",
   "version": "3.8.13"
  },
  "vscode": {
   "interpreter": {
    "hash": "2f77cdcd9b743fc6632530622d1273bb0a6b5ad5c54013a66aff8dbe588fc82d"
   }
  }
 },
 "nbformat": 4,
 "nbformat_minor": 1
}
